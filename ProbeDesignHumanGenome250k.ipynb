{
 "cells": [
  {
   "cell_type": "markdown",
   "id": "983d9699",
   "metadata": {},
   "source": [
    "### Author: Bogdan Bintu and Benjamin Albert\n",
    "     Date: 10/6/2022\n",
    "    This is inteded to create genome-scale probes with ~250kb resolution across the human genome"
   ]
  },
  {
   "cell_type": "code",
   "execution_count": 1,
   "id": "c3b3b3f6",
   "metadata": {},
   "outputs": [
    {
     "name": "stdout",
     "output_type": "stream",
     "text": [
      "running build_ext\n",
      "copying build/lib.linux-x86_64-3.9/seqint.cpython-39-x86_64-linux-gnu.so -> \n"
     ]
    }
   ],
   "source": [
    "!cd LibraryDesign3/C_Tools && python setup.py build_ext --inplace"
   ]
  },
  {
   "cell_type": "code",
   "execution_count": 1,
   "id": "bfc22a9a",
   "metadata": {},
   "outputs": [
    {
     "ename": "ModuleNotFoundError",
     "evalue": "No module named 'LibraryDesigner'",
     "output_type": "error",
     "traceback": [
      "\u001b[0;31m---------------------------------------------------------------------------\u001b[0m",
      "\u001b[0;31mModuleNotFoundError\u001b[0m                       Traceback (most recent call last)",
      "Input \u001b[0;32mIn [1]\u001b[0m, in \u001b[0;36m<cell line: 2>\u001b[0;34m()\u001b[0m\n\u001b[1;32m      1\u001b[0m \u001b[38;5;28;01mimport\u001b[39;00m \u001b[38;5;21;01msys\u001b[39;00m\u001b[38;5;241m,\u001b[39m\u001b[38;5;21;01mos\u001b[39;00m\n\u001b[0;32m----> 2\u001b[0m \u001b[38;5;28;01mimport\u001b[39;00m \u001b[38;5;21;01mLibraryDesigner\u001b[39;00m \u001b[38;5;28;01mas\u001b[39;00m \u001b[38;5;21;01mld\u001b[39;00m \u001b[38;5;66;03m# adds C_Tools to path\u001b[39;00m\n\u001b[1;32m      3\u001b[0m \u001b[38;5;28;01mimport\u001b[39;00m \u001b[38;5;21;01mLibraryTools\u001b[39;00m \u001b[38;5;28;01mas\u001b[39;00m \u001b[38;5;21;01mlt\u001b[39;00m\n\u001b[1;32m      4\u001b[0m \u001b[38;5;28;01mfrom\u001b[39;00m \u001b[38;5;21;01mseqint\u001b[39;00m \u001b[38;5;28;01mimport\u001b[39;00m seq2Int, seq2Int_rc\n",
      "\u001b[0;31mModuleNotFoundError\u001b[0m: No module named 'LibraryDesigner'"
     ]
    }
   ],
   "source": [
    "import sys,os\n",
    "libdesignpath = \"LibraryDesign3\"\n",
    "if libdesignpath not in sys.path:\n",
    "    sys.path.append(libdesignpath)\n",
    "import LibraryDesigner as ld # adds C_Tools to path\n",
    "import LibraryTools as lt\n",
    "from seqint import seq2Int, seq2Int_rc\n",
    "# some other packages may required\n",
    "import Bio #use pip install biopython"
   ]
  },
  {
   "cell_type": "code",
   "execution_count": null,
   "id": "296d9449",
   "metadata": {},
   "outputs": [],
   "source": [
    "#### Downloaded T2T genome from: https://www.ncbi.nlm.nih.gov/assembly/GCA_009914755.4\n",
    "#### GCF_009914755.1_T2T-CHM13v2.0_genomic.fna"
   ]
  },
  {
   "cell_type": "code",
   "execution_count": null,
   "id": "ec8878bc",
   "metadata": {},
   "outputs": [],
   "source": [
    "names,seqs = lt.fastaread(\"data/GCF_009914755.1_T2T-CHM13v2.0_genomic.fna\")"
   ]
  },
  {
   "cell_type": "markdown",
   "id": "ea3a321a",
   "metadata": {},
   "source": [
    "### Construct count tables -- only need to do it once"
   ]
  },
  {
   "cell_type": "code",
   "execution_count": null,
   "id": "db3f2e4a",
   "metadata": {},
   "outputs": [],
   "source": [
    "fl = \"data/GCF_009914755.1_T2T-CHM13v2.0_genomic.fna\"\n",
    "names,seqs = lt.fastaread(fl)\n",
    "ct = ld.countTable(word=17,save_file=fl.replace(\".fa\",\"_17w.bin\"),\n",
    "                   sparse=False)\n",
    "\n",
    "from tqdm import tqdm\n",
    "for sq in tqdm(seqs):\n",
    "    ct.consume(sq,verbose=False)\n",
    "ct.complete(verbose=True)\n",
    "ct.save()"
   ]
  },
  {
   "cell_type": "code",
   "execution_count": null,
   "id": "c93ab98c",
   "metadata": {},
   "outputs": [],
   "source": [
    "import numpy as np\n",
    "#arr = np.load(r'C:\\Users\\Bogdan\\Dropbox\\HumanGenomeTranscriptome\\human_genome_T2T_17w.bin',allow_pickle=True)\n",
    "arr = np.fromfile(\"data/human_genome_T2T_17w.bin\",dtype=np.uint16)\n",
    "\n",
    "seq = b\"ccctaaccctaacccta\"\n",
    "arr[ld.seq2Int(seq)] #number of occurences in the genome of ccctaaccctaacccta"
   ]
  },
  {
   "cell_type": "code",
   "execution_count": null,
   "id": "82b56ad4",
   "metadata": {},
   "outputs": [],
   "source": [
    "# TODO"
   ]
  },
  {
   "cell_type": "code",
   "execution_count": null,
   "id": "8e515241",
   "metadata": {},
   "outputs": [],
   "source": [
    "fl = \"data/human__genesUnspliced.fasta\"\n",
    "names,seqs = lt.fastaread(fl)\n",
    "ct = ld.countTable(word=17,save_file=fl.replace(\".fasta\",\"_17w.bin\"),\n",
    "                   sparse=False)\n",
    "\n",
    "from tqdm import tqdm\n",
    "for sq in tqdm(seqs):\n",
    "    ct.consume(sq,verbose=False)\n",
    "ct.complete(verbose=True)\n",
    "ct.save()"
   ]
  },
  {
   "cell_type": "code",
   "execution_count": null,
   "id": "7b4cda80",
   "metadata": {},
   "outputs": [],
   "source": []
  },
  {
   "cell_type": "markdown",
   "id": "e46604d9",
   "metadata": {},
   "source": [
    "### sample genome at 250kb and save 50kb centered"
   ]
  },
  {
   "cell_type": "markdown",
   "id": "c9a23631",
   "metadata": {},
   "source": [
    "TODO\n",
    "\n",
    "Save these as fata files index by chr and location: chr5_locus_0025_50kb.fasta"
   ]
  },
  {
   "cell_type": "markdown",
   "id": "50b04356",
   "metadata": {},
   "source": [
    "### Run on single sequence the probe designing"
   ]
  },
  {
   "cell_type": "code",
   "execution_count": null,
   "id": "59e9f2ac",
   "metadata": {},
   "outputs": [],
   "source": [
    "names[4]\n",
    "save_folder = \"probes\"\n",
    "ich=4\n",
    "index = 25\n",
    "\n",
    "name = \"chr5_locus\"+str(index).zfill(5)+\"_50kb\"\n",
    "seq = seqs[ich][index*250000:][:50000]\n",
    "fl_name = save_folder+os.sep+name+\".fasta\"\n",
    "lt.fastawrite(fl_name,[name],[seq])"
   ]
  },
  {
   "cell_type": "code",
   "execution_count": null,
   "id": "dd060e89",
   "metadata": {},
   "outputs": [],
   "source": [
    "print(fl_name)"
   ]
  },
  {
   "cell_type": "code",
   "execution_count": null,
   "id": "df8f9e57",
   "metadata": {},
   "outputs": [],
   "source": [
    "in_file = \"data/chr5_locus00025_50kb.fasta\"\n",
    "\n",
    "save_file = in_file.replace('.fasta','.pbr')\n",
    "\n",
    "transcriptome_fl = \"data/human__genesUnspliced_17w.bin\"\n",
    "genome_fl = \"data/human_genome_T2T_17w.bin\"\n",
    "rep_fl = \"data/repetitive.fasta\"\n",
    "top_transcriptome_fl = \"data/top_tr500_brain.fasta\"\n",
    "local_genome_fl = in_file\n",
    "\n",
    "\n",
    "pb_designer = ld.pb_reports_class(\n",
    "    sequence_dic={'file':in_file,'use_revc':True,'use_kmer':True}, #use_revc - if true  consides rc as probe\n",
    "    \n",
    "    map_dic={'transcriptome':{'file':transcriptome_fl,'use_revc':False,'use_kmer':True},\n",
    "             'top_transcriptome':{'file':top_transcriptome_fl,'use_revc':False,'use_kmer':True},\n",
    "          'genome':{'file':genome_fl,'use_revc':True,'use_kmer':True},\n",
    "          'repetitive':{'file':rep_fl,'use_revc':True,'use_kmer':True},\n",
    "          'local_genome':{'file':in_file,'use_revc':True,'use_kmer':True}},\n",
    "\n",
    "    save_file=save_file,\n",
    "    \n",
    "    params_dic={'word_size':17,'pb_len':40,'buffer_len':0,'max_count':2**16-1,'check_on_go':False,'auto':False},\n",
    "    \n",
    "    dic_check={('genome','local_genome'):75,\n",
    "                'transcriptome':20,\n",
    "                'top_transcriptome':5,\n",
    "                'repetitive':2,\n",
    "               'gc':[0.25,0.75],'tm':70})\n",
    "\n",
    "pb_designer.computeOTmaps()\n",
    "pb_designer.compute_pb_report(verbose=True)\n",
    "pb_designer.perform_check_end()\n",
    "pb_designer.plots()\n",
    "pb_designer.save_csv(name=os.path.basename(in_file).split('.')[0])"
   ]
  },
  {
   "cell_type": "code",
   "execution_count": null,
   "id": "a0490c69",
   "metadata": {},
   "outputs": [],
   "source": [
    "#### Define in_files"
   ]
  },
  {
   "cell_type": "code",
   "execution_count": null,
   "id": "66056be3",
   "metadata": {},
   "outputs": [],
   "source": [
    "from tqdm.notebook import tqdm\n",
    "for in_file in tqdm(in_files):\n",
    "    #print(in_file)\n",
    "    #modify input file\n",
    "    pb_designer.sequence_dic['file'] = in_file\n",
    "    #modify save file\n",
    "    pb_designer.save_file = in_file.replace('.fasta','.pbr')\n",
    "    if not os.path.exists(pb_designer.save_file):\n",
    "        pb_designer.load_sequence_file_and_paramaters()\n",
    "        #modify maps\n",
    "        key='local_genome'\n",
    "        pb_designer.map_dic[key]['file'] = in_file\n",
    "        pb_designer.files_to_OTmap(\"map_\"+key,pb_designer.map_dic[key])\n",
    "        #compute\n",
    "        pb_designer.compute_pb_report()\n",
    "        pb_designer.perform_check_end()\n",
    "        pb_designer.plots()\n",
    "        pb_designer.save_csv(name=os.path.basename(in_file).split('.')[0])"
   ]
  },
  {
   "cell_type": "code",
   "execution_count": null,
   "id": "4f545233",
   "metadata": {},
   "outputs": [],
   "source": [
    "np.sum([int(len(seq)/250000) for seq in seqs])"
   ]
  }
 ],
 "metadata": {
  "kernelspec": {
   "display_name": "Python 3 (ipykernel)",
   "language": "python",
   "name": "python3"
  },
  "language_info": {
   "codemirror_mode": {
    "name": "ipython",
    "version": 3
   },
   "file_extension": ".py",
   "mimetype": "text/x-python",
   "name": "python",
   "nbconvert_exporter": "python",
   "pygments_lexer": "ipython3",
   "version": "3.9.12"
  },
  "toc": {
   "base_numbering": 1,
   "nav_menu": {},
   "number_sections": true,
   "sideBar": true,
   "skip_h1_title": false,
   "title_cell": "Table of Contents",
   "title_sidebar": "Contents",
   "toc_cell": false,
   "toc_position": {},
   "toc_section_display": true,
   "toc_window_display": true
  }
 },
 "nbformat": 4,
 "nbformat_minor": 5
}
